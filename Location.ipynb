{
  "nbformat": 4,
  "nbformat_minor": 0,
  "metadata": {
    "colab": {
      "provenance": [],
      "toc_visible": true,
      "authorship_tag": "ABX9TyMLt2E2sBlzXex6A9jWgYvh",
      "include_colab_link": true
    },
    "kernelspec": {
      "name": "python3",
      "display_name": "Python 3"
    },
    "language_info": {
      "name": "python"
    }
  },
  "cells": [
    {
      "cell_type": "markdown",
      "metadata": {
        "id": "view-in-github",
        "colab_type": "text"
      },
      "source": [
        "<a href=\"https://colab.research.google.com/github/horng55/Grade12-Math/blob/main/Location.ipynb\" target=\"_parent\"><img src=\"https://colab.research.google.com/assets/colab-badge.svg\" alt=\"Open In Colab\"/></a>"
      ]
    },
    {
      "cell_type": "code",
      "execution_count": 1,
      "metadata": {
        "colab": {
          "base_uri": "https://localhost:8080/"
        },
        "id": "PFE4ZbA4GBiV",
        "outputId": "e7a80b3e-72ff-406c-8dc4-0f86c19be2d0"
      },
      "outputs": [
        {
          "output_type": "stream",
          "name": "stdout",
          "text": [
            "Collecting phonenumbers\n",
            "  Downloading phonenumbers-8.13.43-py2.py3-none-any.whl.metadata (10 kB)\n",
            "Downloading phonenumbers-8.13.43-py2.py3-none-any.whl (2.6 MB)\n",
            "\u001b[2K   \u001b[90m━━━━━━━━━━━━━━━━━━━━━━━━━━━━━━━━━━━━━━━━\u001b[0m \u001b[32m2.6/2.6 MB\u001b[0m \u001b[31m19.3 MB/s\u001b[0m eta \u001b[36m0:00:00\u001b[0m\n",
            "\u001b[?25hInstalling collected packages: phonenumbers\n",
            "Successfully installed phonenumbers-8.13.43\n"
          ]
        }
      ],
      "source": [
        "pip install phonenumbers"
      ]
    },
    {
      "cell_type": "code",
      "source": [
        "create a phone number which i will search"
      ],
      "metadata": {
        "id": "gHHbKuR4GYYE"
      },
      "execution_count": null,
      "outputs": []
    },
    {
      "cell_type": "code",
      "source": [
        "Trace_number = \"+855094411675\"\n",
        "import phonenumbers\n",
        "from phonenumbers import geocoder\n",
        "ch_num = phonenumbers.parse(Trace_number,\"KH\")\n",
        "print(geocoder.description_for_number(ch_num,\"en\"))\n"
      ],
      "metadata": {
        "colab": {
          "base_uri": "https://localhost:8080/"
        },
        "id": "iV9AwizwGfXe",
        "outputId": "26393479-6c7f-432c-8e41-816108434d8a"
      },
      "execution_count": 13,
      "outputs": [
        {
          "output_type": "stream",
          "name": "stdout",
          "text": [
            "Cambodia\n"
          ]
        }
      ]
    }
  ]
}